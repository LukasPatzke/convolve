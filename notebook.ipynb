{
 "cells": [
  {
   "cell_type": "markdown",
   "metadata": {},
   "source": [
    "# convolve with numba\n",
    "\n",
    "Demonstration on fast image processing from Computerphile https://www.youtube.com/watch?v=SiJpkucGa1o&t=0s.\n",
    "Replaced cython with numba Just-in-Time compiler."
   ]
  },
  {
   "cell_type": "code",
   "execution_count": 1,
   "metadata": {},
   "outputs": [],
   "source": [
    "import numpy as np\n",
    "from PIL import Image\n",
    "from numba import njit"
   ]
  },
  {
   "cell_type": "markdown",
   "metadata": {},
   "source": [
    "Helper functions to read and write an image into and from a CxHxW numpy float32 array "
   ]
  },
  {
   "cell_type": "code",
   "execution_count": 2,
   "metadata": {},
   "outputs": [],
   "source": [
    "def read_image(path):\n",
    "    img = np.array(Image.open(path))\n",
    "    arr = np.ascontiguousarray(img.transpose(2,0,1), dtype=np.float32)\n",
    "    arr /= 255\n",
    "    return arr\n",
    "\n",
    "def write_image(img, path):\n",
    "    img *= 255\n",
    "    img = img.transpose(1,2,0).astype(np.uint8)\n",
    "    Image.fromarray(img).save(path)"
   ]
  },
  {
   "cell_type": "markdown",
   "metadata": {},
   "source": [
    "Generate gaussian kernels"
   ]
  },
  {
   "cell_type": "code",
   "execution_count": 3,
   "metadata": {},
   "outputs": [],
   "source": [
    "# Produces a 2D gaussian kernel of standard deviation sigma and size 2*sigma+1\n",
    "def gaussian_kernel_2d(sigma):\n",
    "    kernel_radius = np.ceil(sigma) * 3\n",
    "    kernel_size = kernel_radius * 2 + 1\n",
    "    ax = np.arange(-kernel_radius, kernel_radius + 1., dtype=np.float32)\n",
    "    xx, yy = np.meshgrid(ax, ax)\n",
    "    kernel = np.exp(-(xx**2 + yy**2) / (2. * sigma**2))\n",
    "    return kernel / np.sum(kernel)\n",
    "\n",
    "# Produces a 1D gaussian kernel of standard deviation sigma and size 2*sigma+1\n",
    "def gaussian_kernel_1d(sigma):\n",
    "    kernel_radius = np.ceil(sigma) * 3\n",
    "    kernel_size = kernel_radius * 2 + 1\n",
    "    ax = np.arange(-kernel_radius, kernel_radius + 1., dtype=np.float32)\n",
    "    kernel = np.exp(-(ax**2) / (2. * sigma**2))\n",
    "    return (kernel / np.sum(kernel)).reshape(1,kernel.shape[0])"
   ]
  },
  {
   "cell_type": "markdown",
   "metadata": {},
   "source": [
    "convolve function just in time compiled with numba"
   ]
  },
  {
   "cell_type": "code",
   "execution_count": 4,
   "metadata": {},
   "outputs": [],
   "source": [
    "@njit()\n",
    "def convolve(image, output, kernel):\n",
    "    channel_count = image.shape[0]\n",
    "    image_height = image.shape[1]\n",
    "    image_width = image.shape[2]\n",
    "\n",
    "    kernel_height = kernel.shape[0]\n",
    "    kernel_halfh = kernel_height // 2\n",
    "    kernel_width = kernel.shape[1]\n",
    "    kernel_halfw = kernel_width // 2\n",
    "    \n",
    "    # Do convolution\n",
    "    for x in range(image_width):\n",
    "        for y in range(image_height):\n",
    "            # Calculate usable image / kernel range\n",
    "            x_min = max(0, x - kernel_halfw)\n",
    "            x_max = min(image_width - 1, x + kernel_halfw)\n",
    "            y_min = max(0, y - kernel_halfh)\n",
    "            y_max = min(image_height - 1, y + kernel_halfh)\n",
    "\n",
    "            # Convolve filter\n",
    "            for c in range(channel_count):\n",
    "                value = 0\n",
    "                total = 0\n",
    "                for u in range(x_min, x_max + 1):\n",
    "                    for v in range(y_min, y_max + 1):\n",
    "                        tmp = kernel[v - y + kernel_halfh, u - x + kernel_halfw]\n",
    "                        value += image[c, v, u] * tmp  \n",
    "                        total += tmp\n",
    "                output[c, y, x] = value / total"
   ]
  },
  {
   "cell_type": "code",
   "execution_count": 5,
   "metadata": {},
   "outputs": [],
   "source": [
    "def main(input_file, output_file, sigma, seperate_filters):\n",
    "\n",
    "    # Read image - I'm using floats to store the image, this isn't necessary but saves casting etc. during convolution\n",
    "    img = read_image(input_file)\n",
    "\n",
    "    # Create output of the same size\n",
    "    output = np.zeros(img.shape, dtype=np.float32)\n",
    "\n",
    "\n",
    "    if not seperate_filters:\n",
    "        # NxN convolution\n",
    "        kernel_2d = gaussian_kernel_2d(sigma) # You could create your own kernel here!\n",
    "\n",
    "        # Convolve\n",
    "        convolve(img, output, kernel_2d)\n",
    "\n",
    "    else:\n",
    "        # Nx1 -> 1xN convolution\n",
    "        kernel_1d = gaussian_kernel_1d(sigma)\n",
    "\n",
    "        # We need to store the half convolved intermediate image.\n",
    "        # You could save time by going img -> output-> img and not allocating this array.\n",
    "        # Bearing in mind if you do this you can't use img for anything else.\n",
    "        intermediate = np.zeros(img.shape, dtype=np.float32) \n",
    "\n",
    "        # Convolve in two passes - we must store and use the intermediate image, don't read from the input both times!\n",
    "        convolve(img, intermediate, kernel_1d)\n",
    "        convolve(intermediate, output, kernel_1d.transpose())\n",
    "\n",
    "    # Save final image\n",
    "    write_image(output, output_file)"
   ]
  },
  {
   "cell_type": "markdown",
   "metadata": {},
   "source": [
    "## Input Image\n",
    "![Input Image](Androids.jpg)"
   ]
  },
  {
   "cell_type": "code",
   "execution_count": 6,
   "metadata": {},
   "outputs": [
    {
     "name": "stdout",
     "output_type": "stream",
     "text": [
      "14.6 s ± 784 ms per loop (mean ± std. dev. of 7 runs, 1 loop each)\n"
     ]
    }
   ],
   "source": [
    "%%timeit\n",
    "main('androids.jpg', 'output.jpg', 10, False)"
   ]
  },
  {
   "cell_type": "code",
   "execution_count": 7,
   "metadata": {},
   "outputs": [
    {
     "name": "stdout",
     "output_type": "stream",
     "text": [
      "840 ms ± 86.9 ms per loop (mean ± std. dev. of 7 runs, 1 loop each)\n"
     ]
    }
   ],
   "source": [
    "%%timeit\n",
    "main('androids.jpg', 'output.jpg', 10, True)"
   ]
  },
  {
   "cell_type": "markdown",
   "metadata": {},
   "source": [
    "## Output Image\n",
    "![Input Image](output.jpg)"
   ]
  }
 ],
 "metadata": {
  "kernelspec": {
   "display_name": "Python 3",
   "language": "python",
   "name": "python3"
  },
  "language_info": {
   "codemirror_mode": {
    "name": "ipython",
    "version": 3
   },
   "file_extension": ".py",
   "mimetype": "text/x-python",
   "name": "python",
   "nbconvert_exporter": "python",
   "pygments_lexer": "ipython3",
   "version": "3.6.5"
  }
 },
 "nbformat": 4,
 "nbformat_minor": 2
}
